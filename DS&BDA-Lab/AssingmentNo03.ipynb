{
 "cells": [
  {
   "cell_type": "markdown",
   "id": "9ef848b2-1390-4eb2-8b0a-f67395042e71",
   "metadata": {},
   "source": [
    "# Assingment NO :03"
   ]
  },
  {
   "cell_type": "code",
   "execution_count": 52,
   "id": "0173e51e-739f-4d94-ab34-ba7b9748995e",
   "metadata": {},
   "outputs": [],
   "source": [
    "import pandas as pd\n",
    "import numpy as np\n",
    "import matplotlib.pyplot as plt\n",
    "import seaborn as sns"
   ]
  },
  {
   "cell_type": "code",
   "execution_count": 54,
   "id": "db6cfe94-cfa5-4d7b-9412-24f365a4527b",
   "metadata": {},
   "outputs": [],
   "source": [
    "dataset =  \"https://archive.ics.uci.edu/ml/machine-learning-databases/iris/iris.data\""
   ]
  },
  {
   "cell_type": "code",
   "execution_count": 56,
   "id": "2c2c445b-e73a-4c31-9fad-7c5e5489b365",
   "metadata": {},
   "outputs": [],
   "source": [
    "df = pd.read_csv(dataset,header=None)"
   ]
  },
  {
   "cell_type": "code",
   "execution_count": 57,
   "id": "8c0c9a77-1de2-4dd6-bbd6-c61d151279cc",
   "metadata": {},
   "outputs": [],
   "source": [
    "col_names = ['Sepal_Length','Sepal_Width','Petal_Length','Petal_Width','Species']"
   ]
  },
  {
   "cell_type": "code",
   "execution_count": 58,
   "id": "a10a60ca-852c-4cb8-a476-c5e0a3829ed2",
   "metadata": {},
   "outputs": [],
   "source": [
    "df = pd.read_csv(dataset,names = col_names)"
   ]
  },
  {
   "cell_type": "code",
   "execution_count": 46,
   "id": "37736933-dc10-410b-add8-33356f54a263",
   "metadata": {},
   "outputs": [
    {
     "data": {
      "text/html": [
       "<div>\n",
       "<style scoped>\n",
       "    .dataframe tbody tr th:only-of-type {\n",
       "        vertical-align: middle;\n",
       "    }\n",
       "\n",
       "    .dataframe tbody tr th {\n",
       "        vertical-align: top;\n",
       "    }\n",
       "\n",
       "    .dataframe thead th {\n",
       "        text-align: right;\n",
       "    }\n",
       "</style>\n",
       "<table border=\"1\" class=\"dataframe\">\n",
       "  <thead>\n",
       "    <tr style=\"text-align: right;\">\n",
       "      <th></th>\n",
       "      <th>Sepal_Length</th>\n",
       "      <th>Sepal_Width</th>\n",
       "      <th>Petal_Length</th>\n",
       "      <th>Petal_Width</th>\n",
       "      <th>Species</th>\n",
       "    </tr>\n",
       "  </thead>\n",
       "  <tbody>\n",
       "    <tr>\n",
       "      <th>0</th>\n",
       "      <td>5.1</td>\n",
       "      <td>3.5</td>\n",
       "      <td>1.4</td>\n",
       "      <td>0.2</td>\n",
       "      <td>Iris-setosa</td>\n",
       "    </tr>\n",
       "    <tr>\n",
       "      <th>1</th>\n",
       "      <td>4.9</td>\n",
       "      <td>3.0</td>\n",
       "      <td>1.4</td>\n",
       "      <td>0.2</td>\n",
       "      <td>Iris-setosa</td>\n",
       "    </tr>\n",
       "    <tr>\n",
       "      <th>2</th>\n",
       "      <td>4.7</td>\n",
       "      <td>3.2</td>\n",
       "      <td>1.3</td>\n",
       "      <td>0.2</td>\n",
       "      <td>Iris-setosa</td>\n",
       "    </tr>\n",
       "    <tr>\n",
       "      <th>3</th>\n",
       "      <td>4.6</td>\n",
       "      <td>3.1</td>\n",
       "      <td>1.5</td>\n",
       "      <td>0.2</td>\n",
       "      <td>Iris-setosa</td>\n",
       "    </tr>\n",
       "    <tr>\n",
       "      <th>4</th>\n",
       "      <td>5.0</td>\n",
       "      <td>3.6</td>\n",
       "      <td>1.4</td>\n",
       "      <td>0.2</td>\n",
       "      <td>Iris-setosa</td>\n",
       "    </tr>\n",
       "    <tr>\n",
       "      <th>...</th>\n",
       "      <td>...</td>\n",
       "      <td>...</td>\n",
       "      <td>...</td>\n",
       "      <td>...</td>\n",
       "      <td>...</td>\n",
       "    </tr>\n",
       "    <tr>\n",
       "      <th>145</th>\n",
       "      <td>6.7</td>\n",
       "      <td>3.0</td>\n",
       "      <td>5.2</td>\n",
       "      <td>2.3</td>\n",
       "      <td>Iris-virginica</td>\n",
       "    </tr>\n",
       "    <tr>\n",
       "      <th>146</th>\n",
       "      <td>6.3</td>\n",
       "      <td>2.5</td>\n",
       "      <td>5.0</td>\n",
       "      <td>1.9</td>\n",
       "      <td>Iris-virginica</td>\n",
       "    </tr>\n",
       "    <tr>\n",
       "      <th>147</th>\n",
       "      <td>6.5</td>\n",
       "      <td>3.0</td>\n",
       "      <td>5.2</td>\n",
       "      <td>2.0</td>\n",
       "      <td>Iris-virginica</td>\n",
       "    </tr>\n",
       "    <tr>\n",
       "      <th>148</th>\n",
       "      <td>6.2</td>\n",
       "      <td>3.4</td>\n",
       "      <td>5.4</td>\n",
       "      <td>2.3</td>\n",
       "      <td>Iris-virginica</td>\n",
       "    </tr>\n",
       "    <tr>\n",
       "      <th>149</th>\n",
       "      <td>5.9</td>\n",
       "      <td>3.0</td>\n",
       "      <td>5.1</td>\n",
       "      <td>1.8</td>\n",
       "      <td>Iris-virginica</td>\n",
       "    </tr>\n",
       "  </tbody>\n",
       "</table>\n",
       "<p>150 rows × 5 columns</p>\n",
       "</div>"
      ],
      "text/plain": [
       "     Sepal_Length  Sepal_Width  Petal_Length  Petal_Width         Species\n",
       "0             5.1          3.5           1.4          0.2     Iris-setosa\n",
       "1             4.9          3.0           1.4          0.2     Iris-setosa\n",
       "2             4.7          3.2           1.3          0.2     Iris-setosa\n",
       "3             4.6          3.1           1.5          0.2     Iris-setosa\n",
       "4             5.0          3.6           1.4          0.2     Iris-setosa\n",
       "..            ...          ...           ...          ...             ...\n",
       "145           6.7          3.0           5.2          2.3  Iris-virginica\n",
       "146           6.3          2.5           5.0          1.9  Iris-virginica\n",
       "147           6.5          3.0           5.2          2.0  Iris-virginica\n",
       "148           6.2          3.4           5.4          2.3  Iris-virginica\n",
       "149           5.9          3.0           5.1          1.8  Iris-virginica\n",
       "\n",
       "[150 rows x 5 columns]"
      ]
     },
     "execution_count": 46,
     "metadata": {},
     "output_type": "execute_result"
    }
   ],
   "source": [
    "df"
   ]
  },
  {
   "cell_type": "code",
   "execution_count": 62,
   "id": "594a4fdc-b2e8-46c1-9d88-54108978830c",
   "metadata": {},
   "outputs": [
    {
     "name": "stdout",
     "output_type": "stream",
     "text": [
      "<class 'pandas.core.frame.DataFrame'>\n",
      "RangeIndex: 150 entries, 0 to 149\n",
      "Data columns (total 5 columns):\n",
      " #   Column        Non-Null Count  Dtype  \n",
      "---  ------        --------------  -----  \n",
      " 0   Sepal_Length  150 non-null    float64\n",
      " 1   Sepal_Width   150 non-null    float64\n",
      " 2   Petal_Length  150 non-null    float64\n",
      " 3   Petal_Width   150 non-null    float64\n",
      " 4   Species       150 non-null    object \n",
      "dtypes: float64(4), object(1)\n",
      "memory usage: 6.0+ KB\n"
     ]
    }
   ],
   "source": [
    "df.info()"
   ]
  },
  {
   "cell_type": "code",
   "execution_count": 74,
   "id": "4d9c7961-98c0-4f7e-b446-d267e2ab20ef",
   "metadata": {},
   "outputs": [
    {
     "data": {
      "text/plain": [
       "Sepal_Length    0\n",
       "Sepal_Width     0\n",
       "Petal_Length    0\n",
       "Petal_Width     0\n",
       "Species         0\n",
       "dtype: int64"
      ]
     },
     "execution_count": 74,
     "metadata": {},
     "output_type": "execute_result"
    }
   ],
   "source": [
    "df.isnull().sum()"
   ]
  },
  {
   "cell_type": "markdown",
   "id": "f5d03083-1143-4e4c-8f66-a177070aa0f5",
   "metadata": {},
   "source": [
    "# Central Tendency"
   ]
  },
  {
   "cell_type": "markdown",
   "id": "e8421184-9649-413a-bb1a-bbf03f85bd2a",
   "metadata": {},
   "source": [
    "### 1) Mean"
   ]
  },
  {
   "cell_type": "code",
   "execution_count": 86,
   "id": "e1288272-fe79-4418-b19d-81e01a68c9a0",
   "metadata": {},
   "outputs": [
    {
     "name": "stdout",
     "output_type": "stream",
     "text": [
      "The mean of column Sepal_Length: 5.843333333333334\n"
     ]
    }
   ],
   "source": [
    "print(\"The mean of column Sepal_Length:\",df.loc[:,\"Sepal_Length\"].mean())"
   ]
  },
  {
   "cell_type": "code",
   "execution_count": 88,
   "id": "d910aa89-2260-4f60-a4af-581da7fb1469",
   "metadata": {},
   "outputs": [
    {
     "name": "stdout",
     "output_type": "stream",
     "text": [
      "The mean of column Sepal_Witdh: 3.0540000000000003\n"
     ]
    }
   ],
   "source": [
    "print(\"The mean of column Sepal_Witdh:\",df.loc[:,\"Sepal_Width\"].mean())"
   ]
  },
  {
   "cell_type": "code",
   "execution_count": 90,
   "id": "72068c5b-3194-4ab1-8b60-584ba0cd2d05",
   "metadata": {},
   "outputs": [
    {
     "name": "stdout",
     "output_type": "stream",
     "text": [
      "The mean of column Petal_Length: 3.758666666666666\n"
     ]
    }
   ],
   "source": [
    "print(\"The mean of column Petal_Length:\",df.loc[:,\"Petal_Length\"].mean())"
   ]
  },
  {
   "cell_type": "code",
   "execution_count": 94,
   "id": "e980b224-d83d-46c3-889b-3c374d4011a3",
   "metadata": {},
   "outputs": [
    {
     "name": "stdout",
     "output_type": "stream",
     "text": [
      "The mean of column Petal_Width: 1.1986666666666668\n"
     ]
    }
   ],
   "source": [
    "print(\"The mean of column Petal_Width:\",df.loc[:,\"Petal_Width\"].mean())"
   ]
  },
  {
   "cell_type": "markdown",
   "id": "eb8fe4ae-8a95-47be-8953-44099cce1b6b",
   "metadata": {},
   "source": [
    "### 2) Mode"
   ]
  },
  {
   "cell_type": "code",
   "execution_count": 121,
   "id": "f2e4f517-16d3-4162-b56f-204075ce2897",
   "metadata": {},
   "outputs": [
    {
     "name": "stdout",
     "output_type": "stream",
     "text": [
      "The mode of column Sepal_Length: 0    5.0\n",
      "Name: Sepal_Length, dtype: float64\n"
     ]
    }
   ],
   "source": [
    "print(\"The mode of column Sepal_Length:\",df.loc[:,\"Sepal_Length\"].mode())"
   ]
  },
  {
   "cell_type": "code",
   "execution_count": 119,
   "id": "34f87c45-d7ec-4344-ae0c-e2d426c552b9",
   "metadata": {},
   "outputs": [
    {
     "name": "stdout",
     "output_type": "stream",
     "text": [
      "The mode of column Sepal_Width: 0    3.0\n",
      "Name: Sepal_Width, dtype: float64\n"
     ]
    }
   ],
   "source": [
    "print(\"The mode of column Sepal_Width:\",df.loc[:,\"Sepal_Width\"].mode())"
   ]
  },
  {
   "cell_type": "markdown",
   "id": "492ede55-cadf-45fb-9df4-a52d532aa167",
   "metadata": {},
   "source": [
    "### 3) Median"
   ]
  },
  {
   "cell_type": "code",
   "execution_count": 117,
   "id": "cf141676-7cc6-42b8-848e-120b7faeb628",
   "metadata": {},
   "outputs": [
    {
     "name": "stdout",
     "output_type": "stream",
     "text": [
      "The median of column Sepal_Length: 5.8\n"
     ]
    }
   ],
   "source": [
    "print(\"The median of column Sepal_Length:\",df.loc[:,\"Sepal_Length\"].median())"
   ]
  },
  {
   "cell_type": "code",
   "execution_count": 115,
   "id": "b3305871-d6b2-4752-9d51-c1c1bef900b4",
   "metadata": {},
   "outputs": [
    {
     "name": "stdout",
     "output_type": "stream",
     "text": [
      "The median of column Sepal_Width: 3.0\n"
     ]
    }
   ],
   "source": [
    "print(\"The median of column Sepal_Width:\",df.loc[:,\"Sepal_Width\"].median())"
   ]
  },
  {
   "cell_type": "markdown",
   "id": "e4444d68-0b26-4fc6-8647-6a7f9fc143eb",
   "metadata": {},
   "source": [
    "# Dispersion"
   ]
  },
  {
   "cell_type": "markdown",
   "id": "93535bc9-fc15-4f89-a66f-84364a4235bc",
   "metadata": {},
   "source": [
    "### 1) Standard Deviation"
   ]
  },
  {
   "cell_type": "code",
   "execution_count": 113,
   "id": "2b6f4c39-4d27-4851-8284-9ac8c56bbc46",
   "metadata": {},
   "outputs": [
    {
     "name": "stdout",
     "output_type": "stream",
     "text": [
      "The Standard Deviation of column Sepal_Length: 0.8280661279778629\n"
     ]
    }
   ],
   "source": [
    "print(\"The Standard Deviation of column Sepal_Length:\",df.loc[:,\"Sepal_Length\"].std())"
   ]
  },
  {
   "cell_type": "code",
   "execution_count": 123,
   "id": "d3456b4d-bba2-40f0-abb6-06b9a614c515",
   "metadata": {},
   "outputs": [
    {
     "name": "stdout",
     "output_type": "stream",
     "text": [
      "The Standard Deviation of column Sepal_Width: 0.4335943113621737\n"
     ]
    }
   ],
   "source": [
    "print(\"The Standard Deviation of column Sepal_Width:\",df.loc[:,\"Sepal_Width\"].std())"
   ]
  },
  {
   "cell_type": "markdown",
   "id": "2caac669-7de8-4ea6-ab88-c1d92d4bf9b0",
   "metadata": {},
   "source": [
    "### 2) Max"
   ]
  },
  {
   "cell_type": "code",
   "execution_count": 143,
   "id": "447a2fa3-6d12-4367-8233-b7a323410906",
   "metadata": {},
   "outputs": [],
   "source": [
    "array1 = np.array(df[\"Sepal_Length\"])"
   ]
  },
  {
   "cell_type": "code",
   "execution_count": 145,
   "id": "2283de19-3024-4b95-a3e9-f1dba4bfd685",
   "metadata": {},
   "outputs": [],
   "source": [
    "array2 = np.array(df[\"Petal_Length\"])"
   ]
  },
  {
   "cell_type": "code",
   "execution_count": 147,
   "id": "7b2c50a5-58c8-47e8-8a0c-d6708a4649c7",
   "metadata": {},
   "outputs": [
    {
     "name": "stdout",
     "output_type": "stream",
     "text": [
      "Sepal_Length Array [5.1 4.9 4.7 4.6 5.  5.4 4.6 5.  4.4 4.9 5.4 4.8 4.8 4.3 5.8 5.7 5.4 5.1\n",
      " 5.7 5.1 5.4 5.1 4.6 5.1 4.8 5.  5.  5.2 5.2 4.7 4.8 5.4 5.2 5.5 4.9 5.\n",
      " 5.5 4.9 4.4 5.1 5.  4.5 4.4 5.  5.1 4.8 5.1 4.6 5.3 5.  7.  6.4 6.9 5.5\n",
      " 6.5 5.7 6.3 4.9 6.6 5.2 5.  5.9 6.  6.1 5.6 6.7 5.6 5.8 6.2 5.6 5.9 6.1\n",
      " 6.3 6.1 6.4 6.6 6.8 6.7 6.  5.7 5.5 5.5 5.8 6.  5.4 6.  6.7 6.3 5.6 5.5\n",
      " 5.5 6.1 5.8 5.  5.6 5.7 5.7 6.2 5.1 5.7 6.3 5.8 7.1 6.3 6.5 7.6 4.9 7.3\n",
      " 6.7 7.2 6.5 6.4 6.8 5.7 5.8 6.4 6.5 7.7 7.7 6.  6.9 5.6 7.7 6.3 6.7 7.2\n",
      " 6.2 6.1 6.4 7.2 7.4 7.9 6.4 6.3 6.1 7.7 6.3 6.4 6.  6.9 6.7 6.9 5.8 6.8\n",
      " 6.7 6.7 6.3 6.5 6.2 5.9]\n"
     ]
    }
   ],
   "source": [
    "print(\"Sepal_Length Array\",array1)\n"
   ]
  },
  {
   "cell_type": "code",
   "execution_count": 149,
   "id": "852febb5-7470-423f-aebf-2fe43b4e89ea",
   "metadata": {},
   "outputs": [
    {
     "name": "stdout",
     "output_type": "stream",
     "text": [
      "Petal_Lenght Array [1.4 1.4 1.3 1.5 1.4 1.7 1.4 1.5 1.4 1.5 1.5 1.6 1.4 1.1 1.2 1.5 1.3 1.4\n",
      " 1.7 1.5 1.7 1.5 1.  1.7 1.9 1.6 1.6 1.5 1.4 1.6 1.6 1.5 1.5 1.4 1.5 1.2\n",
      " 1.3 1.5 1.3 1.5 1.3 1.3 1.3 1.6 1.9 1.4 1.6 1.4 1.5 1.4 4.7 4.5 4.9 4.\n",
      " 4.6 4.5 4.7 3.3 4.6 3.9 3.5 4.2 4.  4.7 3.6 4.4 4.5 4.1 4.5 3.9 4.8 4.\n",
      " 4.9 4.7 4.3 4.4 4.8 5.  4.5 3.5 3.8 3.7 3.9 5.1 4.5 4.5 4.7 4.4 4.1 4.\n",
      " 4.4 4.6 4.  3.3 4.2 4.2 4.2 4.3 3.  4.1 6.  5.1 5.9 5.6 5.8 6.6 4.5 6.3\n",
      " 5.8 6.1 5.1 5.3 5.5 5.  5.1 5.3 5.5 6.7 6.9 5.  5.7 4.9 6.7 4.9 5.7 6.\n",
      " 4.8 4.9 5.6 5.8 6.1 6.4 5.6 5.1 5.6 6.1 5.6 5.5 4.8 5.4 5.6 5.1 5.1 5.9\n",
      " 5.7 5.2 5.  5.2 5.4 5.1]\n"
     ]
    }
   ],
   "source": [
    "print(\"Petal_Lenght Array\",array2)"
   ]
  },
  {
   "cell_type": "code",
   "execution_count": 153,
   "id": "21cca5ab-f98f-44ca-a161-43475aa5fe1c",
   "metadata": {},
   "outputs": [
    {
     "name": "stdout",
     "output_type": "stream",
     "text": [
      "Maximum in Array1(Sepal_Length):  7.9\n"
     ]
    }
   ],
   "source": [
    "print(\"Maximum in Array1(Sepal_Length): \",max(array1))"
   ]
  },
  {
   "cell_type": "code",
   "execution_count": 155,
   "id": "04d40a1d-a718-429b-b89a-ccfd9cf606d5",
   "metadata": {},
   "outputs": [
    {
     "name": "stdout",
     "output_type": "stream",
     "text": [
      "Maximum in Array2(Petal_Length):  6.9\n"
     ]
    }
   ],
   "source": [
    "print(\"Maximum in Array2(Petal_Length): \",max(array2))"
   ]
  },
  {
   "cell_type": "markdown",
   "id": "03696fa8-f197-4e9b-9ec3-09b1b97b61f0",
   "metadata": {},
   "source": [
    "### 3) Min"
   ]
  },
  {
   "cell_type": "code",
   "execution_count": 160,
   "id": "7fb8098d-8595-45d3-b477-1a297b6fd295",
   "metadata": {},
   "outputs": [
    {
     "name": "stdout",
     "output_type": "stream",
     "text": [
      "Minimum in Array1(Sepal_Length):  4.3\n"
     ]
    }
   ],
   "source": [
    "print(\"Minimum in Array1(Sepal_Length): \",min(array1))"
   ]
  },
  {
   "cell_type": "code",
   "execution_count": 162,
   "id": "47fc9619-8241-4e12-a6ad-5536cd42bf49",
   "metadata": {},
   "outputs": [
    {
     "name": "stdout",
     "output_type": "stream",
     "text": [
      "Minimum in array2(Petal_Lenght):  1.0\n"
     ]
    }
   ],
   "source": [
    "print(\"Minimum in array2(Petal_Lenght): \",min(array2))"
   ]
  },
  {
   "cell_type": "markdown",
   "id": "93917a24-f8a9-4a36-ae06-a4be277ef64f",
   "metadata": {},
   "source": [
    "## Inter Quantile Range"
   ]
  },
  {
   "cell_type": "code",
   "execution_count": 210,
   "id": "6a1c4d24-7553-446d-8a05-c961bbbd29de",
   "metadata": {},
   "outputs": [
    {
     "data": {
      "text/plain": [
       "5.1"
      ]
     },
     "execution_count": 210,
     "metadata": {},
     "output_type": "execute_result"
    }
   ],
   "source": [
    "Q1 = df[\"Sepal_Length\"].quantile(0.25)\n",
    "Q1"
   ]
  },
  {
   "cell_type": "code",
   "execution_count": 214,
   "id": "2a11eaf0-49b6-4f42-87e3-86d2713d1095",
   "metadata": {},
   "outputs": [
    {
     "data": {
      "text/plain": [
       "5.8"
      ]
     },
     "execution_count": 214,
     "metadata": {},
     "output_type": "execute_result"
    }
   ],
   "source": [
    "Q2 = df[\"Sepal_Length\"].quantile(0.5)\n",
    "Q2"
   ]
  },
  {
   "cell_type": "code",
   "execution_count": 216,
   "id": "77ce458a-649b-41fd-b670-cf1a400bb4c3",
   "metadata": {},
   "outputs": [
    {
     "data": {
      "text/plain": [
       "6.4"
      ]
     },
     "execution_count": 216,
     "metadata": {},
     "output_type": "execute_result"
    }
   ],
   "source": [
    "Q3 = df[\"Sepal_Length\"].quantile(0.75)\n",
    "Q3"
   ]
  },
  {
   "cell_type": "code",
   "execution_count": 222,
   "id": "6cbfaf5f-561b-4230-8df2-533bd62d7450",
   "metadata": {},
   "outputs": [
    {
     "name": "stdout",
     "output_type": "stream",
     "text": [
      "Inter Quantile Range:  1.3000000000000007\n"
     ]
    }
   ],
   "source": [
    "IQR =  Q3- Q1\n",
    "print(\"Inter Quantile Range: \", IQR)"
   ]
  },
  {
   "cell_type": "markdown",
   "id": "b35061fd-f300-4d8f-8899-e4a08d4be311",
   "metadata": {},
   "source": [
    "## Use of df.describe()"
   ]
  },
  {
   "cell_type": "code",
   "execution_count": 241,
   "id": "88c1b21f-0079-4a0c-a3f6-1cdd6f523d54",
   "metadata": {},
   "outputs": [
    {
     "data": {
      "text/html": [
       "<div>\n",
       "<style scoped>\n",
       "    .dataframe tbody tr th:only-of-type {\n",
       "        vertical-align: middle;\n",
       "    }\n",
       "\n",
       "    .dataframe tbody tr th {\n",
       "        vertical-align: top;\n",
       "    }\n",
       "\n",
       "    .dataframe thead th {\n",
       "        text-align: right;\n",
       "    }\n",
       "</style>\n",
       "<table border=\"1\" class=\"dataframe\">\n",
       "  <thead>\n",
       "    <tr style=\"text-align: right;\">\n",
       "      <th></th>\n",
       "      <th>Sepal_Length</th>\n",
       "      <th>Sepal_Width</th>\n",
       "      <th>Petal_Length</th>\n",
       "      <th>Petal_Width</th>\n",
       "    </tr>\n",
       "  </thead>\n",
       "  <tbody>\n",
       "    <tr>\n",
       "      <th>count</th>\n",
       "      <td>150.000000</td>\n",
       "      <td>150.000000</td>\n",
       "      <td>150.000000</td>\n",
       "      <td>150.000000</td>\n",
       "    </tr>\n",
       "    <tr>\n",
       "      <th>mean</th>\n",
       "      <td>5.843333</td>\n",
       "      <td>3.054000</td>\n",
       "      <td>3.758667</td>\n",
       "      <td>1.198667</td>\n",
       "    </tr>\n",
       "    <tr>\n",
       "      <th>std</th>\n",
       "      <td>0.828066</td>\n",
       "      <td>0.433594</td>\n",
       "      <td>1.764420</td>\n",
       "      <td>0.763161</td>\n",
       "    </tr>\n",
       "    <tr>\n",
       "      <th>min</th>\n",
       "      <td>4.300000</td>\n",
       "      <td>2.000000</td>\n",
       "      <td>1.000000</td>\n",
       "      <td>0.100000</td>\n",
       "    </tr>\n",
       "    <tr>\n",
       "      <th>25%</th>\n",
       "      <td>5.100000</td>\n",
       "      <td>2.800000</td>\n",
       "      <td>1.600000</td>\n",
       "      <td>0.300000</td>\n",
       "    </tr>\n",
       "    <tr>\n",
       "      <th>50%</th>\n",
       "      <td>5.800000</td>\n",
       "      <td>3.000000</td>\n",
       "      <td>4.350000</td>\n",
       "      <td>1.300000</td>\n",
       "    </tr>\n",
       "    <tr>\n",
       "      <th>75%</th>\n",
       "      <td>6.400000</td>\n",
       "      <td>3.300000</td>\n",
       "      <td>5.100000</td>\n",
       "      <td>1.800000</td>\n",
       "    </tr>\n",
       "    <tr>\n",
       "      <th>max</th>\n",
       "      <td>7.900000</td>\n",
       "      <td>4.400000</td>\n",
       "      <td>6.900000</td>\n",
       "      <td>2.500000</td>\n",
       "    </tr>\n",
       "  </tbody>\n",
       "</table>\n",
       "</div>"
      ],
      "text/plain": [
       "       Sepal_Length  Sepal_Width  Petal_Length  Petal_Width\n",
       "count    150.000000   150.000000    150.000000   150.000000\n",
       "mean       5.843333     3.054000      3.758667     1.198667\n",
       "std        0.828066     0.433594      1.764420     0.763161\n",
       "min        4.300000     2.000000      1.000000     0.100000\n",
       "25%        5.100000     2.800000      1.600000     0.300000\n",
       "50%        5.800000     3.000000      4.350000     1.300000\n",
       "75%        6.400000     3.300000      5.100000     1.800000\n",
       "max        7.900000     4.400000      6.900000     2.500000"
      ]
     },
     "execution_count": 241,
     "metadata": {},
     "output_type": "execute_result"
    }
   ],
   "source": [
    "df.describe()"
   ]
  },
  {
   "cell_type": "markdown",
   "id": "8c65ef45-8b67-4ce6-b885-7228a218b145",
   "metadata": {},
   "source": [
    "## Use of df.groupby()"
   ]
  },
  {
   "cell_type": "code",
   "execution_count": 250,
   "id": "5f9568c4-8f56-4a54-aa31-af3d6652ee8e",
   "metadata": {},
   "outputs": [],
   "source": [
    "groupby = df.groupby(\"Species\")"
   ]
  },
  {
   "cell_type": "code",
   "execution_count": 252,
   "id": "4c3d9683-46e4-421b-b5bb-7afbb781f2dd",
   "metadata": {},
   "outputs": [
    {
     "data": {
      "text/plain": [
       "<pandas.core.groupby.generic.DataFrameGroupBy object at 0x7e36d9787260>"
      ]
     },
     "execution_count": 252,
     "metadata": {},
     "output_type": "execute_result"
    }
   ],
   "source": [
    "groupby"
   ]
  },
  {
   "cell_type": "code",
   "execution_count": 264,
   "id": "90d4dae2-0fd2-4a51-bc92-c88c65bda0d9",
   "metadata": {},
   "outputs": [
    {
     "data": {
      "text/plain": [
       "Sepal_Length  count    150.000000\n",
       "              mean      17.530000\n",
       "              std        1.504540\n",
       "              min       14.100000\n",
       "              25%       16.625000\n",
       "              50%       17.400000\n",
       "              75%       18.400000\n",
       "              max       20.700000\n",
       "Sepal_Width   count    150.000000\n",
       "              mean       9.162000\n",
       "              std        1.017319\n",
       "              min        6.500000\n",
       "              25%        8.450000\n",
       "              50%        9.200000\n",
       "              75%        9.850000\n",
       "              max       11.600000\n",
       "Petal_Length  count    150.000000\n",
       "              mean      11.276000\n",
       "              std        1.195317\n",
       "              min        8.500000\n",
       "              25%       10.500000\n",
       "              50%       11.400000\n",
       "              75%       12.050000\n",
       "              max       13.900000\n",
       "Petal_Width   count    150.000000\n",
       "              mean       3.596000\n",
       "              std        0.579612\n",
       "              min        2.500000\n",
       "              25%        3.200000\n",
       "              50%        3.500000\n",
       "              75%        4.100000\n",
       "              max        4.900000\n",
       "dtype: float64"
      ]
     },
     "execution_count": 264,
     "metadata": {},
     "output_type": "execute_result"
    }
   ],
   "source": [
    "groupby.describe().sum()"
   ]
  },
  {
   "cell_type": "code",
   "execution_count": null,
   "id": "bd2e2086-401d-4cee-9c21-05ba2564d1be",
   "metadata": {},
   "outputs": [],
   "source": []
  }
 ],
 "metadata": {
  "kernelspec": {
   "display_name": "Python 3 (ipykernel)",
   "language": "python",
   "name": "python3"
  },
  "language_info": {
   "codemirror_mode": {
    "name": "ipython",
    "version": 3
   },
   "file_extension": ".py",
   "mimetype": "text/x-python",
   "name": "python",
   "nbconvert_exporter": "python",
   "pygments_lexer": "ipython3",
   "version": "3.10.12"
  }
 },
 "nbformat": 4,
 "nbformat_minor": 5
}
