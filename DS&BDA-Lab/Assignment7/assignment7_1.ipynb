{
 "cells": [
  {
   "cell_type": "code",
   "execution_count": 19,
   "id": "6ecc7ad4-4365-47eb-ac65-c33854520e77",
   "metadata": {},
   "outputs": [],
   "source": [
    "import nltk\n",
    "import re\n",
    "from nltk.tokenize import sent_tokenize\n",
    "from nltk.tokenize import word_tokenize\n",
    "from nltk.corpus import stopwords\n",
    "from nltk.stem import PorterStemmer\n",
    "from nltk.stem import WordNetLemmatizer"
   ]
  },
  {
   "cell_type": "code",
   "execution_count": 20,
   "id": "18cf87b2-51ba-4c6b-aaa1-7f24bf775a4e",
   "metadata": {},
   "outputs": [
    {
     "name": "stderr",
     "output_type": "stream",
     "text": [
      "[nltk_data] Downloading package punkt to /home/ubuntu/nltk_data...\n",
      "[nltk_data]   Package punkt is already up-to-date!\n",
      "[nltk_data] Downloading package stopwords to /home/ubuntu/nltk_data...\n",
      "[nltk_data]   Package stopwords is already up-to-date!\n",
      "[nltk_data] Downloading package wordnet to /home/ubuntu/nltk_data...\n",
      "[nltk_data]   Package wordnet is already up-to-date!\n",
      "[nltk_data] Downloading package averaged_perceptron_tagger to\n",
      "[nltk_data]     /home/ubuntu/nltk_data...\n",
      "[nltk_data]   Package averaged_perceptron_tagger is already up-to-\n",
      "[nltk_data]       date!\n",
      "[nltk_data] Downloading package punkt_tab to /home/ubuntu/nltk_data...\n",
      "[nltk_data]   Package punkt_tab is already up-to-date!\n",
      "[nltk_data] Downloading package averaged_perceptron_tagger_eng to\n",
      "[nltk_data]     /home/ubuntu/nltk_data...\n",
      "[nltk_data]   Package averaged_perceptron_tagger_eng is already up-to-\n",
      "[nltk_data]       date!\n"
     ]
    },
    {
     "data": {
      "text/plain": [
       "True"
      ]
     },
     "execution_count": 20,
     "metadata": {},
     "output_type": "execute_result"
    }
   ],
   "source": [
    "nltk.download('punkt')\n",
    "nltk.download('stopwords')\n",
    "nltk.download('wordnet')\n",
    "nltk.download('averaged_perceptron_tagger')\n",
    "nltk.download('punkt_tab')\n",
    "nltk.download('averaged_perceptron_tagger_eng')"
   ]
  },
  {
   "cell_type": "code",
   "execution_count": 21,
   "id": "4c5351fa-7163-4300-a610-2f83b0a2f9d9",
   "metadata": {},
   "outputs": [],
   "source": [
    "text= '''Tokenization is the first step in text analytics. The\n",
    "process of breaking down a text paragraph into smaller chunks\n",
    "such as words or sentences is called Tokenization.'''"
   ]
  },
  {
   "cell_type": "markdown",
   "id": "8a1312f4-9882-4957-9df4-7e08bca4a6c8",
   "metadata": {},
   "source": [
    "## Perform Tokanization"
   ]
  },
  {
   "cell_type": "code",
   "execution_count": 22,
   "id": "08221f57-149f-4b14-9223-df088ac0e5b0",
   "metadata": {},
   "outputs": [
    {
     "name": "stdout",
     "output_type": "stream",
     "text": [
      "['Tokenization is the first step in text analytics.', 'The\\nprocess of breaking down a text paragraph into smaller chunks\\nsuch as words or sentences is called Tokenization.']\n"
     ]
    }
   ],
   "source": [
    "#Sentence Tokenization\n",
    "tokenized_text= sent_tokenize(text)\n",
    "print(tokenized_text)"
   ]
  },
  {
   "cell_type": "code",
   "execution_count": 23,
   "id": "ba078323-be87-46f3-8d40-0066bc146c7a",
   "metadata": {},
   "outputs": [
    {
     "name": "stdout",
     "output_type": "stream",
     "text": [
      "['Tokenization', 'is', 'the', 'first', 'step', 'in', 'text', 'analytics', '.', 'The', 'process', 'of', 'breaking', 'down', 'a', 'text', 'paragraph', 'into', 'smaller', 'chunks', 'such', 'as', 'words', 'or', 'sentences', 'is', 'called', 'Tokenization', '.']\n"
     ]
    }
   ],
   "source": [
    "#Word Tokenization\n",
    "tokenized_word=word_tokenize(text)\n",
    "print(tokenized_word)"
   ]
  },
  {
   "cell_type": "markdown",
   "id": "7f9486a2-a1e9-4030-9241-72ce87b29e97",
   "metadata": {},
   "source": [
    "## Removing Punctuations and Stop Word"
   ]
  },
  {
   "cell_type": "code",
   "execution_count": 24,
   "id": "85b474a7-74f5-48b2-bf1e-c8144604236d",
   "metadata": {},
   "outputs": [
    {
     "name": "stdout",
     "output_type": "stream",
     "text": [
      "{'at', \"we'd\", 'her', 'and', 'll', 'your', 'from', 'any', 'why', \"couldn't\", 'no', 'down', \"won't\", 'which', 'does', 'if', \"they're\", \"she'd\", 'most', 'then', 'into', 'to', 'while', 'whom', 'mustn', \"don't\", 'ours', \"shouldn't\", 'below', 've', 'these', \"i've\", \"didn't\", 'hers', 'have', 'had', 'hasn', 'are', 'again', 'do', 'once', 'itself', \"they've\", 'by', 'has', \"you're\", 'when', 'during', 'doing', 'between', 'needn', \"i'll\", 'other', \"it'll\", 'they', 'aren', 'for', 'ma', 'himself', 's', 'how', 'those', 'nor', 'shouldn', 'y', 'only', 'here', 'herself', 'so', \"it'd\", \"i'd\", 'shan', 'o', 'of', 'i', 'very', 'on', 'an', 'd', \"mustn't\", 'did', 'who', 'wouldn', 'him', \"she'll\", 'me', 'yourself', 'won', 'their', 'some', 'our', \"he'll\", 'such', 'further', \"mightn't\", 'wasn', \"he'd\", \"hadn't\", \"doesn't\", 'as', 't', \"wouldn't\", 'but', 'above', 'you', \"they'd\", \"aren't\", 'is', 'up', 'more', \"that'll\", 'should', 'his', 'them', 'because', 'don', \"haven't\", 'ain', 'same', 'we', 'than', 'couldn', \"you'll\", \"needn't\", 'each', 'off', 'doesn', 'my', 'myself', 'he', 'been', 'under', \"we've\", 'not', 'm', 'over', 'against', 'all', 'mightn', 'it', 'in', 'hadn', 'before', 'few', 'themselves', \"hasn't\", 'through', 're', \"should've\", 'this', 'out', 'until', \"you'd\", 'haven', \"weren't\", 'now', 'there', 'yourselves', \"wasn't\", \"it's\", 'ourselves', 'will', 'where', 'both', 'weren', 'having', \"he's\", 'its', 'or', \"we're\", 'the', \"we'll\", \"shan't\", 'be', \"she's\", 'yours', \"i'm\", \"you've\", 'am', 'she', 'a', 'was', 'being', 'what', 'just', 'isn', 'were', 'about', 'didn', 'after', 'that', 'own', \"they'll\", 'can', 'too', 'with', 'theirs', \"isn't\"}\n"
     ]
    }
   ],
   "source": [
    "# print stop words of English\n",
    "stop_words=set(stopwords.words(\"english\"))\n",
    "print(stop_words)"
   ]
  },
  {
   "cell_type": "code",
   "execution_count": 25,
   "id": "13fb414f-c20d-436b-a646-160ba49b0218",
   "metadata": {},
   "outputs": [
    {
     "name": "stdout",
     "output_type": "stream",
     "text": [
      "Tokenized Sentence: ['how', 'to', 'remove', 'stop', 'words', 'with', 'nltk', 'library', 'in', 'python']\n",
      "Filterd Sentence: ['remove', 'stop', 'words', 'nltk', 'library', 'python']\n"
     ]
    }
   ],
   "source": [
    "text= \"How to remove stop words with NLTK library in Python?\"\n",
    "text= re.sub('[^a-zA-Z]', ' ',text)\n",
    "tokens = word_tokenize(text.lower())\n",
    "filtered_text=[]\n",
    "for w in tokens:\n",
    "    if w not in stop_words:\n",
    "        filtered_text.append(w)\n",
    "print(\"Tokenized Sentence:\",tokens)\n",
    "print(\"Filterd Sentence:\",filtered_text)"
   ]
  },
  {
   "cell_type": "markdown",
   "id": "c6d91788-0f5a-4201-a52b-c7dee219bead",
   "metadata": {},
   "source": [
    "## Perform Stemming"
   ]
  },
  {
   "cell_type": "code",
   "execution_count": 26,
   "id": "f8c8daed-23c6-455c-b350-f2bfe6a3e14c",
   "metadata": {},
   "outputs": [
    {
     "name": "stdout",
     "output_type": "stream",
     "text": [
      "wait\n",
      "wait\n",
      "wait\n",
      "wait\n"
     ]
    }
   ],
   "source": [
    "e_words= [\"wait\", \"waiting\", \"waited\", \"waits\"]\n",
    "ps =PorterStemmer()\n",
    "for w in e_words:\n",
    "    rootWord=ps.stem(w)\n",
    "    print(rootWord)"
   ]
  },
  {
   "cell_type": "markdown",
   "id": "6614092e-fc03-42f2-931c-c224aa8a1936",
   "metadata": {},
   "source": [
    "## Perform Lemmatization"
   ]
  },
  {
   "cell_type": "code",
   "execution_count": 27,
   "id": "4c2a52f0-653e-44b6-a18e-62ec31675d12",
   "metadata": {},
   "outputs": [
    {
     "name": "stdout",
     "output_type": "stream",
     "text": [
      "Lemma for studies is study\n",
      "Lemma for studying is studying\n",
      "Lemma for cries is cry\n",
      "Lemma for cry is cry\n"
     ]
    }
   ],
   "source": [
    "wordnet_lemmatizer = WordNetLemmatizer()\n",
    "text = \"studies studying cries cry\"\n",
    "tokenization = nltk.word_tokenize(text)\n",
    "for w in tokenization:\n",
    "    print(\"Lemma for {} is {}\".format(w,wordnet_lemmatizer.lemmatize(w)))"
   ]
  },
  {
   "cell_type": "markdown",
   "id": "5b9217f9-4124-4a89-a3c8-517e34e46715",
   "metadata": {},
   "source": [
    "## Apply POS Tagging to text"
   ]
  },
  {
   "cell_type": "code",
   "execution_count": 28,
   "id": "75b0b0ca-14ec-483a-9724-6f0a23cacb44",
   "metadata": {},
   "outputs": [
    {
     "name": "stdout",
     "output_type": "stream",
     "text": [
      "[('The', 'DT')]\n",
      "[('pink', 'NN')]\n",
      "[('sweater', 'NN')]\n",
      "[('fit', 'NN')]\n",
      "[('her', 'PRP$')]\n",
      "[('perfectly', 'RB')]\n"
     ]
    }
   ],
   "source": [
    "data=\"The pink sweater fit her perfectly\"\n",
    "words=word_tokenize(data)\n",
    "for word in words:\n",
    "    print(nltk.pos_tag([word]))"
   ]
  },
  {
   "cell_type": "markdown",
   "id": "d36b7c9e-6e24-43ce-a663-a97b00ff4cc1",
   "metadata": {},
   "source": [
    "## Assignment 1"
   ]
  },
  {
   "cell_type": "code",
   "execution_count": 32,
   "id": "7450d055-3d30-4ad6-b5a7-a1ecea14e2b6",
   "metadata": {},
   "outputs": [
    {
     "name": "stdout",
     "output_type": "stream",
     "text": [
      "studi\n",
      "studi\n",
      "cri\n",
      "cri\n"
     ]
    }
   ],
   "source": [
    "text = \"studies studying cries cry\"\n",
    "tokenized_word=word_tokenize(text)\n",
    "ps =PorterStemmer()\n",
    "for w in tokenized_word:\n",
    "    rootWord=ps.stem(w)\n",
    "    print(rootWord)"
   ]
  }
 ],
 "metadata": {
  "kernelspec": {
   "display_name": "Python 3 (ipykernel)",
   "language": "python",
   "name": "python3"
  },
  "language_info": {
   "codemirror_mode": {
    "name": "ipython",
    "version": 3
   },
   "file_extension": ".py",
   "mimetype": "text/x-python",
   "name": "python",
   "nbconvert_exporter": "python",
   "pygments_lexer": "ipython3",
   "version": "3.11.2"
  }
 },
 "nbformat": 4,
 "nbformat_minor": 5
}
